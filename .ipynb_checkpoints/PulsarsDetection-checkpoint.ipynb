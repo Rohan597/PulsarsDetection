{
 "cells": [
  {
   "cell_type": "code",
   "execution_count": null,
   "metadata": {},
   "outputs": [],
   "source": [
    "# Write your load_fits function here.\n",
    "from astropy.io import fits\n",
    "import numpy as np\n",
    "\n",
    "def load_fits(pul):\n",
    "  hdulist = fits.open(pul)\n",
    "  data = hdulist[0].data\n",
    "\n",
    "  arg_max = np.argmax(data)  \n",
    "  max_pos = np.unravel_index(arg_max, data.shape)\n",
    "  \n",
    "  return max_pos\n",
    "\n",
    "\n",
    "\n",
    "if __name__ == '__main__':\n",
    "  # Run your `load_fits` function with examples:\n",
    "  bright = load_fits('image2.fits')\n",
    "  print(bright)\n",
    "\n",
    "  # You can also confirm your result visually:\n",
    "  from astropy.io import fits\n",
    "  import matplotlib.pyplot as plt\n",
    "\n",
    "  hdulist = fits.open('image2.fits')\n",
    "  data = hdulist[0].data\n",
    "\n",
    "  # Plot the 2D image data\n",
    "  plt.imshow(data.T, cmap=plt.cm.viridis)\n",
    "  plt.xlabel('x-pixels (RA)')\n",
    "  plt.ylabel('y-pixels (Dec)')\n",
    "  plt.colorbar()\n",
    "  plt.show()\n",
    "\n",
    " \n"
   ]
  }
 ],
 "metadata": {
  "kernelspec": {
   "display_name": "Python 3",
   "language": "python",
   "name": "python3"
  },
  "language_info": {
   "codemirror_mode": {
    "name": "ipython",
    "version": 3
   },
   "file_extension": ".py",
   "mimetype": "text/x-python",
   "name": "python",
   "nbconvert_exporter": "python",
   "pygments_lexer": "ipython3",
   "version": "3.7.3"
  }
 },
 "nbformat": 4,
 "nbformat_minor": 2
}
